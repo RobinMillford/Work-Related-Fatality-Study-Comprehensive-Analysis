{
 "cells": [
  {
   "cell_type": "code",
   "execution_count": 1,
   "metadata": {},
   "outputs": [],
   "source": [
    "import pandas as pd"
   ]
  },
  {
   "cell_type": "code",
   "execution_count": 2,
   "metadata": {},
   "outputs": [
    {
     "data": {
      "text/html": [
       "<div>\n",
       "<style scoped>\n",
       "    .dataframe tbody tr th:only-of-type {\n",
       "        vertical-align: middle;\n",
       "    }\n",
       "\n",
       "    .dataframe tbody tr th {\n",
       "        vertical-align: top;\n",
       "    }\n",
       "\n",
       "    .dataframe thead th {\n",
       "        text-align: right;\n",
       "    }\n",
       "</style>\n",
       "<table border=\"1\" class=\"dataframe\">\n",
       "  <thead>\n",
       "    <tr style=\"text-align: right;\">\n",
       "      <th></th>\n",
       "      <th>id</th>\n",
       "      <th>incident_date</th>\n",
       "      <th>day_of_week</th>\n",
       "      <th>city</th>\n",
       "      <th>state</th>\n",
       "      <th>description</th>\n",
       "      <th>plan</th>\n",
       "      <th>citation</th>\n",
       "    </tr>\n",
       "  </thead>\n",
       "  <tbody>\n",
       "    <tr>\n",
       "      <th>0</th>\n",
       "      <td>1</td>\n",
       "      <td>2009-06-23</td>\n",
       "      <td>tuesday</td>\n",
       "      <td>tampa</td>\n",
       "      <td>florida</td>\n",
       "      <td>Victim was inside a building bundling material...</td>\n",
       "      <td>unknown</td>\n",
       "      <td>unknown</td>\n",
       "    </tr>\n",
       "    <tr>\n",
       "      <th>1</th>\n",
       "      <td>2</td>\n",
       "      <td>2009-06-30</td>\n",
       "      <td>tuesday</td>\n",
       "      <td>conroe</td>\n",
       "      <td>texas</td>\n",
       "      <td>Victim was on a scaffold doing repairs on an a...</td>\n",
       "      <td>unknown</td>\n",
       "      <td>unknown</td>\n",
       "    </tr>\n",
       "    <tr>\n",
       "      <th>2</th>\n",
       "      <td>3</td>\n",
       "      <td>2009-07-06</td>\n",
       "      <td>monday</td>\n",
       "      <td>miami</td>\n",
       "      <td>florida</td>\n",
       "      <td>Victim was conducting roofing work, and fell t...</td>\n",
       "      <td>unknown</td>\n",
       "      <td>unknown</td>\n",
       "    </tr>\n",
       "    <tr>\n",
       "      <th>3</th>\n",
       "      <td>4</td>\n",
       "      <td>2009-07-09</td>\n",
       "      <td>thursday</td>\n",
       "      <td>north platte</td>\n",
       "      <td>nebraska</td>\n",
       "      <td>Victim was climbing a ladder while servicing a...</td>\n",
       "      <td>unknown</td>\n",
       "      <td>unknown</td>\n",
       "    </tr>\n",
       "    <tr>\n",
       "      <th>4</th>\n",
       "      <td>5</td>\n",
       "      <td>2009-07-11</td>\n",
       "      <td>saturday</td>\n",
       "      <td>greensburg</td>\n",
       "      <td>pennsylvania</td>\n",
       "      <td>Employees were throwing away old files. They h...</td>\n",
       "      <td>unknown</td>\n",
       "      <td>unknown</td>\n",
       "    </tr>\n",
       "  </tbody>\n",
       "</table>\n",
       "</div>"
      ],
      "text/plain": [
       "   id incident_date day_of_week          city         state  \\\n",
       "0   1    2009-06-23   tuesday           tampa       florida   \n",
       "1   2    2009-06-30   tuesday          conroe         texas   \n",
       "2   3    2009-07-06   monday            miami       florida   \n",
       "3   4    2009-07-09   thursday   north platte      nebraska   \n",
       "4   5    2009-07-11   saturday     greensburg  pennsylvania   \n",
       "\n",
       "                                         description     plan citation  \n",
       "0  Victim was inside a building bundling material...  unknown  unknown  \n",
       "1  Victim was on a scaffold doing repairs on an a...  unknown  unknown  \n",
       "2  Victim was conducting roofing work, and fell t...  unknown  unknown  \n",
       "3  Victim was climbing a ladder while servicing a...  unknown  unknown  \n",
       "4  Employees were throwing away old files. They h...  unknown  unknown  "
      ]
     },
     "execution_count": 2,
     "metadata": {},
     "output_type": "execute_result"
    }
   ],
   "source": [
    "df = pd.read_csv(\"fatality.csv\")\n",
    "df.head()"
   ]
  },
  {
   "cell_type": "code",
   "execution_count": 3,
   "metadata": {},
   "outputs": [
    {
     "data": {
      "text/plain": [
       "unknown    8886\n",
       "federal    3680\n",
       "state      2348\n",
       "Name: plan, dtype: int64"
      ]
     },
     "execution_count": 3,
     "metadata": {},
     "output_type": "execute_result"
    }
   ],
   "source": [
    "df[\"plan\"].value_counts()"
   ]
  },
  {
   "cell_type": "code",
   "execution_count": 3,
   "metadata": {},
   "outputs": [
    {
     "name": "stdout",
     "output_type": "stream",
     "text": [
      "<class 'pandas.core.frame.DataFrame'>\n",
      "RangeIndex: 14914 entries, 0 to 14913\n",
      "Data columns (total 8 columns):\n",
      " #   Column         Non-Null Count  Dtype \n",
      "---  ------         --------------  ----- \n",
      " 0   id             14914 non-null  int64 \n",
      " 1   incident_date  14914 non-null  object\n",
      " 2   day_of_week    14914 non-null  object\n",
      " 3   city           14914 non-null  object\n",
      " 4   state          14914 non-null  object\n",
      " 5   description    14914 non-null  object\n",
      " 6   plan           14914 non-null  object\n",
      " 7   citation       14914 non-null  object\n",
      "dtypes: int64(1), object(7)\n",
      "memory usage: 932.2+ KB\n"
     ]
    }
   ],
   "source": [
    "df.info()"
   ]
  },
  {
   "cell_type": "code",
   "execution_count": 4,
   "metadata": {},
   "outputs": [
    {
     "data": {
      "text/plain": [
       "unknown    8886\n",
       "yes        3345\n",
       "no         2683\n",
       "Name: citation, dtype: int64"
      ]
     },
     "execution_count": 4,
     "metadata": {},
     "output_type": "execute_result"
    }
   ],
   "source": [
    "df[\"citation\"].value_counts()"
   ]
  },
  {
   "cell_type": "code",
   "execution_count": 5,
   "metadata": {},
   "outputs": [
    {
     "data": {
      "text/plain": [
       "0"
      ]
     },
     "execution_count": 5,
     "metadata": {},
     "output_type": "execute_result"
    }
   ],
   "source": [
    "df.duplicated().sum()"
   ]
  },
  {
   "cell_type": "code",
   "execution_count": 6,
   "metadata": {},
   "outputs": [
    {
     "data": {
      "text/plain": [
       "id               0\n",
       "incident_date    0\n",
       "day_of_week      0\n",
       "city             0\n",
       "state            0\n",
       "description      0\n",
       "plan             0\n",
       "citation         0\n",
       "dtype: int64"
      ]
     },
     "execution_count": 6,
     "metadata": {},
     "output_type": "execute_result"
    }
   ],
   "source": [
    "df.isnull().sum()"
   ]
  },
  {
   "cell_type": "code",
   "execution_count": 7,
   "metadata": {},
   "outputs": [],
   "source": [
    "def data_cleaning(df):\n",
    "    unwanted_columns = ['id']\n",
    "    \n",
    "    # Drop unwanted columns from the DataFrame\n",
    "    cleaned_df = df.drop(columns=unwanted_columns)\n",
    "    \n",
    "    return cleaned_df"
   ]
  },
  {
   "cell_type": "code",
   "execution_count": 8,
   "metadata": {},
   "outputs": [
    {
     "data": {
      "text/html": [
       "<div>\n",
       "<style scoped>\n",
       "    .dataframe tbody tr th:only-of-type {\n",
       "        vertical-align: middle;\n",
       "    }\n",
       "\n",
       "    .dataframe tbody tr th {\n",
       "        vertical-align: top;\n",
       "    }\n",
       "\n",
       "    .dataframe thead th {\n",
       "        text-align: right;\n",
       "    }\n",
       "</style>\n",
       "<table border=\"1\" class=\"dataframe\">\n",
       "  <thead>\n",
       "    <tr style=\"text-align: right;\">\n",
       "      <th></th>\n",
       "      <th>incident_date</th>\n",
       "      <th>day_of_week</th>\n",
       "      <th>city</th>\n",
       "      <th>state</th>\n",
       "      <th>description</th>\n",
       "      <th>plan</th>\n",
       "      <th>citation</th>\n",
       "    </tr>\n",
       "  </thead>\n",
       "  <tbody>\n",
       "    <tr>\n",
       "      <th>0</th>\n",
       "      <td>2009-06-23</td>\n",
       "      <td>tuesday</td>\n",
       "      <td>tampa</td>\n",
       "      <td>florida</td>\n",
       "      <td>Victim was inside a building bundling material...</td>\n",
       "      <td>unknown</td>\n",
       "      <td>unknown</td>\n",
       "    </tr>\n",
       "    <tr>\n",
       "      <th>1</th>\n",
       "      <td>2009-06-30</td>\n",
       "      <td>tuesday</td>\n",
       "      <td>conroe</td>\n",
       "      <td>texas</td>\n",
       "      <td>Victim was on a scaffold doing repairs on an a...</td>\n",
       "      <td>unknown</td>\n",
       "      <td>unknown</td>\n",
       "    </tr>\n",
       "    <tr>\n",
       "      <th>2</th>\n",
       "      <td>2009-07-06</td>\n",
       "      <td>monday</td>\n",
       "      <td>miami</td>\n",
       "      <td>florida</td>\n",
       "      <td>Victim was conducting roofing work, and fell t...</td>\n",
       "      <td>unknown</td>\n",
       "      <td>unknown</td>\n",
       "    </tr>\n",
       "    <tr>\n",
       "      <th>3</th>\n",
       "      <td>2009-07-09</td>\n",
       "      <td>thursday</td>\n",
       "      <td>north platte</td>\n",
       "      <td>nebraska</td>\n",
       "      <td>Victim was climbing a ladder while servicing a...</td>\n",
       "      <td>unknown</td>\n",
       "      <td>unknown</td>\n",
       "    </tr>\n",
       "    <tr>\n",
       "      <th>4</th>\n",
       "      <td>2009-07-11</td>\n",
       "      <td>saturday</td>\n",
       "      <td>greensburg</td>\n",
       "      <td>pennsylvania</td>\n",
       "      <td>Employees were throwing away old files. They h...</td>\n",
       "      <td>unknown</td>\n",
       "      <td>unknown</td>\n",
       "    </tr>\n",
       "  </tbody>\n",
       "</table>\n",
       "</div>"
      ],
      "text/plain": [
       "  incident_date day_of_week          city         state  \\\n",
       "0    2009-06-23   tuesday           tampa       florida   \n",
       "1    2009-06-30   tuesday          conroe         texas   \n",
       "2    2009-07-06   monday            miami       florida   \n",
       "3    2009-07-09   thursday   north platte      nebraska   \n",
       "4    2009-07-11   saturday     greensburg  pennsylvania   \n",
       "\n",
       "                                         description     plan citation  \n",
       "0  Victim was inside a building bundling material...  unknown  unknown  \n",
       "1  Victim was on a scaffold doing repairs on an a...  unknown  unknown  \n",
       "2  Victim was conducting roofing work, and fell t...  unknown  unknown  \n",
       "3  Victim was climbing a ladder while servicing a...  unknown  unknown  \n",
       "4  Employees were throwing away old files. They h...  unknown  unknown  "
      ]
     },
     "execution_count": 8,
     "metadata": {},
     "output_type": "execute_result"
    }
   ],
   "source": [
    "cleaned_df = data_cleaning(df)\n",
    "cleaned_df.head()"
   ]
  },
  {
   "cell_type": "code",
   "execution_count": 11,
   "metadata": {},
   "outputs": [],
   "source": [
    "cleaned_df.to_csv(\"fatalities_cleaned.csv\", index=False)"
   ]
  }
 ],
 "metadata": {
  "kernelspec": {
   "display_name": "base",
   "language": "python",
   "name": "python3"
  },
  "language_info": {
   "codemirror_mode": {
    "name": "ipython",
    "version": 3
   },
   "file_extension": ".py",
   "mimetype": "text/x-python",
   "name": "python",
   "nbconvert_exporter": "python",
   "pygments_lexer": "ipython3",
   "version": "3.9.16"
  },
  "orig_nbformat": 4
 },
 "nbformat": 4,
 "nbformat_minor": 2
}
